{
 "cells": [
  {
   "cell_type": "code",
   "execution_count": 1,
   "metadata": {
    "collapsed": true
   },
   "outputs": [],
   "source": [
    "import pandas as pd\n",
    "data = pd.read_csv(\"alexa_depth_1_1000.txt\",names=[\"URL\"])"
   ]
  },
  {
   "cell_type": "code",
   "execution_count": 2,
   "metadata": {
    "collapsed": true
   },
   "outputs": [],
   "source": [
    "#data.head()"
   ]
  },
  {
   "cell_type": "code",
   "execution_count": 3,
   "metadata": {
    "collapsed": true
   },
   "outputs": [],
   "source": [
    "data[\"Label\"]=0"
   ]
  },
  {
   "cell_type": "code",
   "execution_count": null,
   "metadata": {
    "collapsed": true
   },
   "outputs": [],
   "source": []
  },
  {
   "cell_type": "code",
   "execution_count": 4,
   "metadata": {
    "collapsed": true
   },
   "outputs": [],
   "source": [
    "#data.head()"
   ]
  },
  {
   "cell_type": "code",
   "execution_count": 5,
   "metadata": {},
   "outputs": [
    {
     "name": "stderr",
     "output_type": "stream",
     "text": [
      "/home/yogi/anaconda3/lib/python3.6/site-packages/ipykernel_launcher.py:1: ParserWarning: Falling back to the 'python' engine because the 'c' engine does not support regex separators (separators > 1 char and different from '\\s+' are interpreted as regex); you can avoid this warning by specifying engine='python'.\n",
      "  \"\"\"Entry point for launching an IPython kernel.\n"
     ]
    }
   ],
   "source": [
    "data2 = pd.read_csv(\"trainingDataFilteredForCrossoverAndPornAndDmoz.csv\",delimiter=\">>>>>\",names=[\"URL\",\"Label\",\"Label_type\",\"Source\"])"
   ]
  },
  {
   "cell_type": "code",
   "execution_count": 6,
   "metadata": {
    "collapsed": true
   },
   "outputs": [],
   "source": [
    "#data2.head()"
   ]
  },
  {
   "cell_type": "code",
   "execution_count": 7,
   "metadata": {
    "collapsed": true
   },
   "outputs": [],
   "source": [
    "data2[\"Label\"]=0"
   ]
  },
  {
   "cell_type": "code",
   "execution_count": 8,
   "metadata": {
    "collapsed": true
   },
   "outputs": [],
   "source": [
    "data2 = data2.drop([\"Source\"],axis=1)"
   ]
  },
  {
   "cell_type": "code",
   "execution_count": 9,
   "metadata": {
    "collapsed": true
   },
   "outputs": [],
   "source": [
    "#data2.head()"
   ]
  },
  {
   "cell_type": "code",
   "execution_count": 10,
   "metadata": {
    "collapsed": true
   },
   "outputs": [],
   "source": [
    "newdata=data.append(data2)"
   ]
  },
  {
   "cell_type": "code",
   "execution_count": 11,
   "metadata": {},
   "outputs": [
    {
     "data": {
      "text/plain": [
       "282098"
      ]
     },
     "execution_count": 11,
     "metadata": {},
     "output_type": "execute_result"
    }
   ],
   "source": [
    "len(newdata)"
   ]
  },
  {
   "cell_type": "code",
   "execution_count": 12,
   "metadata": {},
   "outputs": [
    {
     "name": "stdout",
     "output_type": "stream",
     "text": [
      "95806 186292\n"
     ]
    }
   ],
   "source": [
    "print (len(data),len(data2))"
   ]
  },
  {
   "cell_type": "code",
   "execution_count": 13,
   "metadata": {
    "collapsed": true
   },
   "outputs": [],
   "source": [
    "ph = pd.read_csv(\"openphish.csv\",delimiter=\"\\t\",names=[\"URL\"])"
   ]
  },
  {
   "cell_type": "code",
   "execution_count": 14,
   "metadata": {
    "collapsed": true
   },
   "outputs": [],
   "source": [
    "ph[\"Label\"]=1"
   ]
  },
  {
   "cell_type": "code",
   "execution_count": 15,
   "metadata": {
    "collapsed": true
   },
   "outputs": [],
   "source": [
    "#ph.head()"
   ]
  },
  {
   "cell_type": "code",
   "execution_count": 16,
   "metadata": {
    "collapsed": true
   },
   "outputs": [],
   "source": [
    "ph2 = pd.read_csv(\"phishtank.csv\")"
   ]
  },
  {
   "cell_type": "code",
   "execution_count": 17,
   "metadata": {
    "collapsed": true
   },
   "outputs": [],
   "source": [
    "ph2[\"URL\"]=ph2.url\n",
    "ph2 = ph2.drop([\"phish_detail_url\",\"submission_time\",\"verification_time\",\"phish_id\",\"url\"],axis =1)"
   ]
  },
  {
   "cell_type": "code",
   "execution_count": null,
   "metadata": {
    "collapsed": true
   },
   "outputs": [],
   "source": []
  },
  {
   "cell_type": "code",
   "execution_count": 18,
   "metadata": {
    "collapsed": true
   },
   "outputs": [],
   "source": [
    "ph2[\"Label\"]=1"
   ]
  },
  {
   "cell_type": "code",
   "execution_count": 25,
   "metadata": {},
   "outputs": [
    {
     "data": {
      "text/html": [
       "<div>\n",
       "<style>\n",
       "    .dataframe thead tr:only-child th {\n",
       "        text-align: right;\n",
       "    }\n",
       "\n",
       "    .dataframe thead th {\n",
       "        text-align: left;\n",
       "    }\n",
       "\n",
       "    .dataframe tbody tr th {\n",
       "        vertical-align: top;\n",
       "    }\n",
       "</style>\n",
       "<table border=\"1\" class=\"dataframe\">\n",
       "  <thead>\n",
       "    <tr style=\"text-align: right;\">\n",
       "      <th></th>\n",
       "      <th>URL</th>\n",
       "      <th>Label</th>\n",
       "    </tr>\n",
       "  </thead>\n",
       "  <tbody>\n",
       "    <tr>\n",
       "      <th>0</th>\n",
       "      <td>https://ghfgkhg.cf/tax/bnc/National%20Bank%20O...</td>\n",
       "      <td>1</td>\n",
       "    </tr>\n",
       "    <tr>\n",
       "      <th>1</th>\n",
       "      <td>https://www.personnalite2018.com/perso/indexfi...</td>\n",
       "      <td>1</td>\n",
       "    </tr>\n",
       "    <tr>\n",
       "      <th>2</th>\n",
       "      <td>https://www.personnalite2018.com/perso/index2.php</td>\n",
       "      <td>1</td>\n",
       "    </tr>\n",
       "    <tr>\n",
       "      <th>3</th>\n",
       "      <td>http://ativascorretora.com.br/chaseonline.chas...</td>\n",
       "      <td>1</td>\n",
       "    </tr>\n",
       "    <tr>\n",
       "      <th>4</th>\n",
       "      <td>http://ativascorretora.com.br/chaseonline.chas...</td>\n",
       "      <td>1</td>\n",
       "    </tr>\n",
       "    <tr>\n",
       "      <th>5</th>\n",
       "      <td>http://khmch.com/Sqah/bnc/National%20Bank%20On...</td>\n",
       "      <td>1</td>\n",
       "    </tr>\n",
       "    <tr>\n",
       "      <th>6</th>\n",
       "      <td>http://fivewin.com.br/aFOTOS/FaceBook/</td>\n",
       "      <td>1</td>\n",
       "    </tr>\n",
       "    <tr>\n",
       "      <th>7</th>\n",
       "      <td>http://www.tastevenders.com/amazonedited/89b39...</td>\n",
       "      <td>1</td>\n",
       "    </tr>\n",
       "    <tr>\n",
       "      <th>8</th>\n",
       "      <td>http://www.tastevenders.com/amazonedited/89b39...</td>\n",
       "      <td>1</td>\n",
       "    </tr>\n",
       "    <tr>\n",
       "      <th>9</th>\n",
       "      <td>https://a2plcpnl0950.prod.iad2.secureserver.ne...</td>\n",
       "      <td>1</td>\n",
       "    </tr>\n",
       "    <tr>\n",
       "      <th>10</th>\n",
       "      <td>https://a2plcpnl0950.prod.iad2.secureserver.ne...</td>\n",
       "      <td>1</td>\n",
       "    </tr>\n",
       "    <tr>\n",
       "      <th>11</th>\n",
       "      <td>https://a2plcpnl0950.prod.iad2.secureserver.ne...</td>\n",
       "      <td>1</td>\n",
       "    </tr>\n",
       "    <tr>\n",
       "      <th>12</th>\n",
       "      <td>https://a2plcpnl0950.prod.iad2.secureserver.ne...</td>\n",
       "      <td>1</td>\n",
       "    </tr>\n",
       "    <tr>\n",
       "      <th>13</th>\n",
       "      <td>http://www.tastevenders.com/amazonedited/24c03...</td>\n",
       "      <td>1</td>\n",
       "    </tr>\n",
       "    <tr>\n",
       "      <th>14</th>\n",
       "      <td>http://www.tastevenders.com/amazonedited/24c03...</td>\n",
       "      <td>1</td>\n",
       "    </tr>\n",
       "    <tr>\n",
       "      <th>15</th>\n",
       "      <td>http://www.tastevenders.com/amazonedited/f5529...</td>\n",
       "      <td>1</td>\n",
       "    </tr>\n",
       "    <tr>\n",
       "      <th>16</th>\n",
       "      <td>http://www.tastevenders.com/amazonedited/f5529...</td>\n",
       "      <td>1</td>\n",
       "    </tr>\n",
       "    <tr>\n",
       "      <th>17</th>\n",
       "      <td>https://esuncastc.ga/dp/Hotmail-New/Verificati...</td>\n",
       "      <td>1</td>\n",
       "    </tr>\n",
       "    <tr>\n",
       "      <th>18</th>\n",
       "      <td>http://www.alertasms.mobi/bb-portal-novoapp/pa...</td>\n",
       "      <td>1</td>\n",
       "    </tr>\n",
       "    <tr>\n",
       "      <th>19</th>\n",
       "      <td>http://www.alertasms.mobi/bb-portal-novoapp/pa...</td>\n",
       "      <td>1</td>\n",
       "    </tr>\n",
       "    <tr>\n",
       "      <th>20</th>\n",
       "      <td>http://www.alertasms.mobi/bb-portal-novoapp/pa...</td>\n",
       "      <td>1</td>\n",
       "    </tr>\n",
       "    <tr>\n",
       "      <th>21</th>\n",
       "      <td>http://www.tastevenders.com/amazonedited/75ee6...</td>\n",
       "      <td>1</td>\n",
       "    </tr>\n",
       "    <tr>\n",
       "      <th>22</th>\n",
       "      <td>http://www.tastevenders.com/amazonedited/75ee6...</td>\n",
       "      <td>1</td>\n",
       "    </tr>\n",
       "    <tr>\n",
       "      <th>23</th>\n",
       "      <td>http://www.tastevenders.com/amazonedited/cf5b4...</td>\n",
       "      <td>1</td>\n",
       "    </tr>\n",
       "    <tr>\n",
       "      <th>24</th>\n",
       "      <td>http://www.tastevenders.com/amazonedited/cf5b4...</td>\n",
       "      <td>1</td>\n",
       "    </tr>\n",
       "    <tr>\n",
       "      <th>25</th>\n",
       "      <td>http://sloaneandhyde.com/imm/new2015/processin...</td>\n",
       "      <td>1</td>\n",
       "    </tr>\n",
       "    <tr>\n",
       "      <th>26</th>\n",
       "      <td>http://www.casanatura.gr/btnetwor/</td>\n",
       "      <td>1</td>\n",
       "    </tr>\n",
       "    <tr>\n",
       "      <th>27</th>\n",
       "      <td>https://stainupurworejo.ac.id/themes/2/dhl/del...</td>\n",
       "      <td>1</td>\n",
       "    </tr>\n",
       "    <tr>\n",
       "      <th>28</th>\n",
       "      <td>https://web.greystonecat.com/yh/piyane/dhl2/dh...</td>\n",
       "      <td>1</td>\n",
       "    </tr>\n",
       "    <tr>\n",
       "      <th>29</th>\n",
       "      <td>http://quattropayroll.co.za/verify/</td>\n",
       "      <td>1</td>\n",
       "    </tr>\n",
       "    <tr>\n",
       "      <th>...</th>\n",
       "      <td>...</td>\n",
       "      <td>...</td>\n",
       "    </tr>\n",
       "    <tr>\n",
       "      <th>2247</th>\n",
       "      <td>https://www.functionmania.com/bao/bg3/verify.html</td>\n",
       "      <td>1</td>\n",
       "    </tr>\n",
       "    <tr>\n",
       "      <th>2248</th>\n",
       "      <td>http://ko-ketey.tk/NewChseMills/NewChseMills/</td>\n",
       "      <td>1</td>\n",
       "    </tr>\n",
       "    <tr>\n",
       "      <th>2249</th>\n",
       "      <td>http://ko-ketey.tk/NewChseMills/NewChseMills/p...</td>\n",
       "      <td>1</td>\n",
       "    </tr>\n",
       "    <tr>\n",
       "      <th>2250</th>\n",
       "      <td>http://www.englandlaw.us/wp-admin/user/capital...</td>\n",
       "      <td>1</td>\n",
       "    </tr>\n",
       "    <tr>\n",
       "      <th>2251</th>\n",
       "      <td>http://www.englandlaw.us/wp-admin/user/capital...</td>\n",
       "      <td>1</td>\n",
       "    </tr>\n",
       "    <tr>\n",
       "      <th>2252</th>\n",
       "      <td>http://www.englandlaw.us/wp-admin/user/capital...</td>\n",
       "      <td>1</td>\n",
       "    </tr>\n",
       "    <tr>\n",
       "      <th>2253</th>\n",
       "      <td>http://www.englandlaw.us/wp-admin/user/capital...</td>\n",
       "      <td>1</td>\n",
       "    </tr>\n",
       "    <tr>\n",
       "      <th>2254</th>\n",
       "      <td>http://www.englandlaw.us/wp-admin/user/capital...</td>\n",
       "      <td>1</td>\n",
       "    </tr>\n",
       "    <tr>\n",
       "      <th>2255</th>\n",
       "      <td>http://www.englandlaw.us/wp-admin/user/capital...</td>\n",
       "      <td>1</td>\n",
       "    </tr>\n",
       "    <tr>\n",
       "      <th>2256</th>\n",
       "      <td>http://excohealth.com/adp</td>\n",
       "      <td>1</td>\n",
       "    </tr>\n",
       "    <tr>\n",
       "      <th>2257</th>\n",
       "      <td>http://voltaje.ru/catalog/controller/bankofame...</td>\n",
       "      <td>1</td>\n",
       "    </tr>\n",
       "    <tr>\n",
       "      <th>2258</th>\n",
       "      <td>http://voltaje.ru/catalog/controller/bankofame...</td>\n",
       "      <td>1</td>\n",
       "    </tr>\n",
       "    <tr>\n",
       "      <th>2259</th>\n",
       "      <td>http://voltaje.ru/catalog/controller/bankofame...</td>\n",
       "      <td>1</td>\n",
       "    </tr>\n",
       "    <tr>\n",
       "      <th>2260</th>\n",
       "      <td>https://aslits.usa.cc/tax/bnc/National%20Bank%...</td>\n",
       "      <td>1</td>\n",
       "    </tr>\n",
       "    <tr>\n",
       "      <th>2261</th>\n",
       "      <td>http://businessenvironment.com.au/tot/bankofam...</td>\n",
       "      <td>1</td>\n",
       "    </tr>\n",
       "    <tr>\n",
       "      <th>2262</th>\n",
       "      <td>http://recording.usa.cc/capitalone/705590bb1b8...</td>\n",
       "      <td>1</td>\n",
       "    </tr>\n",
       "    <tr>\n",
       "      <th>2263</th>\n",
       "      <td>http://recording.usa.cc/capitalone/705590bb1b8...</td>\n",
       "      <td>1</td>\n",
       "    </tr>\n",
       "    <tr>\n",
       "      <th>2264</th>\n",
       "      <td>http://recording.usa.cc/capitalone/705590bb1b8...</td>\n",
       "      <td>1</td>\n",
       "    </tr>\n",
       "    <tr>\n",
       "      <th>2265</th>\n",
       "      <td>http://www.voltaje.ru/catalog/controller/banko...</td>\n",
       "      <td>1</td>\n",
       "    </tr>\n",
       "    <tr>\n",
       "      <th>2266</th>\n",
       "      <td>http://www.voltaje.ru/catalog/controller/banko...</td>\n",
       "      <td>1</td>\n",
       "    </tr>\n",
       "    <tr>\n",
       "      <th>2267</th>\n",
       "      <td>http://pavinginperth.com.au/file/</td>\n",
       "      <td>1</td>\n",
       "    </tr>\n",
       "    <tr>\n",
       "      <th>2268</th>\n",
       "      <td>http://pavinginperth.com.au/file/pass.php</td>\n",
       "      <td>1</td>\n",
       "    </tr>\n",
       "    <tr>\n",
       "      <th>2269</th>\n",
       "      <td>https://embuche.fr/wp-includes/js/tinymce/util...</td>\n",
       "      <td>1</td>\n",
       "    </tr>\n",
       "    <tr>\n",
       "      <th>2270</th>\n",
       "      <td>http://alysiella.com/image/owa.outlook.microso...</td>\n",
       "      <td>1</td>\n",
       "    </tr>\n",
       "    <tr>\n",
       "      <th>2271</th>\n",
       "      <td>https://serviceconsultantmb.com/capitalone/ver...</td>\n",
       "      <td>1</td>\n",
       "    </tr>\n",
       "    <tr>\n",
       "      <th>2272</th>\n",
       "      <td>https://serviceconsultantmb.com/capitalone/ver...</td>\n",
       "      <td>1</td>\n",
       "    </tr>\n",
       "    <tr>\n",
       "      <th>2273</th>\n",
       "      <td>https://serviceconsultantmb.com/capitalone/ver...</td>\n",
       "      <td>1</td>\n",
       "    </tr>\n",
       "    <tr>\n",
       "      <th>2274</th>\n",
       "      <td>https://serviceconsultantmb.com/capitalone/ver...</td>\n",
       "      <td>1</td>\n",
       "    </tr>\n",
       "    <tr>\n",
       "      <th>2275</th>\n",
       "      <td>http://cmjmusic.com/amazon/Amazon/index.php</td>\n",
       "      <td>1</td>\n",
       "    </tr>\n",
       "    <tr>\n",
       "      <th>2276</th>\n",
       "      <td>http://annual-pay-verification-transfer-custom...</td>\n",
       "      <td>1</td>\n",
       "    </tr>\n",
       "  </tbody>\n",
       "</table>\n",
       "<p>2277 rows × 2 columns</p>\n",
       "</div>"
      ],
      "text/plain": [
       "                                                    URL  Label\n",
       "0     https://ghfgkhg.cf/tax/bnc/National%20Bank%20O...      1\n",
       "1     https://www.personnalite2018.com/perso/indexfi...      1\n",
       "2     https://www.personnalite2018.com/perso/index2.php      1\n",
       "3     http://ativascorretora.com.br/chaseonline.chas...      1\n",
       "4     http://ativascorretora.com.br/chaseonline.chas...      1\n",
       "5     http://khmch.com/Sqah/bnc/National%20Bank%20On...      1\n",
       "6                http://fivewin.com.br/aFOTOS/FaceBook/      1\n",
       "7     http://www.tastevenders.com/amazonedited/89b39...      1\n",
       "8     http://www.tastevenders.com/amazonedited/89b39...      1\n",
       "9     https://a2plcpnl0950.prod.iad2.secureserver.ne...      1\n",
       "10    https://a2plcpnl0950.prod.iad2.secureserver.ne...      1\n",
       "11    https://a2plcpnl0950.prod.iad2.secureserver.ne...      1\n",
       "12    https://a2plcpnl0950.prod.iad2.secureserver.ne...      1\n",
       "13    http://www.tastevenders.com/amazonedited/24c03...      1\n",
       "14    http://www.tastevenders.com/amazonedited/24c03...      1\n",
       "15    http://www.tastevenders.com/amazonedited/f5529...      1\n",
       "16    http://www.tastevenders.com/amazonedited/f5529...      1\n",
       "17    https://esuncastc.ga/dp/Hotmail-New/Verificati...      1\n",
       "18    http://www.alertasms.mobi/bb-portal-novoapp/pa...      1\n",
       "19    http://www.alertasms.mobi/bb-portal-novoapp/pa...      1\n",
       "20    http://www.alertasms.mobi/bb-portal-novoapp/pa...      1\n",
       "21    http://www.tastevenders.com/amazonedited/75ee6...      1\n",
       "22    http://www.tastevenders.com/amazonedited/75ee6...      1\n",
       "23    http://www.tastevenders.com/amazonedited/cf5b4...      1\n",
       "24    http://www.tastevenders.com/amazonedited/cf5b4...      1\n",
       "25    http://sloaneandhyde.com/imm/new2015/processin...      1\n",
       "26                   http://www.casanatura.gr/btnetwor/      1\n",
       "27    https://stainupurworejo.ac.id/themes/2/dhl/del...      1\n",
       "28    https://web.greystonecat.com/yh/piyane/dhl2/dh...      1\n",
       "29                  http://quattropayroll.co.za/verify/      1\n",
       "...                                                 ...    ...\n",
       "2247  https://www.functionmania.com/bao/bg3/verify.html      1\n",
       "2248      http://ko-ketey.tk/NewChseMills/NewChseMills/      1\n",
       "2249  http://ko-ketey.tk/NewChseMills/NewChseMills/p...      1\n",
       "2250  http://www.englandlaw.us/wp-admin/user/capital...      1\n",
       "2251  http://www.englandlaw.us/wp-admin/user/capital...      1\n",
       "2252  http://www.englandlaw.us/wp-admin/user/capital...      1\n",
       "2253  http://www.englandlaw.us/wp-admin/user/capital...      1\n",
       "2254  http://www.englandlaw.us/wp-admin/user/capital...      1\n",
       "2255  http://www.englandlaw.us/wp-admin/user/capital...      1\n",
       "2256                          http://excohealth.com/adp      1\n",
       "2257  http://voltaje.ru/catalog/controller/bankofame...      1\n",
       "2258  http://voltaje.ru/catalog/controller/bankofame...      1\n",
       "2259  http://voltaje.ru/catalog/controller/bankofame...      1\n",
       "2260  https://aslits.usa.cc/tax/bnc/National%20Bank%...      1\n",
       "2261  http://businessenvironment.com.au/tot/bankofam...      1\n",
       "2262  http://recording.usa.cc/capitalone/705590bb1b8...      1\n",
       "2263  http://recording.usa.cc/capitalone/705590bb1b8...      1\n",
       "2264  http://recording.usa.cc/capitalone/705590bb1b8...      1\n",
       "2265  http://www.voltaje.ru/catalog/controller/banko...      1\n",
       "2266  http://www.voltaje.ru/catalog/controller/banko...      1\n",
       "2267                  http://pavinginperth.com.au/file/      1\n",
       "2268          http://pavinginperth.com.au/file/pass.php      1\n",
       "2269  https://embuche.fr/wp-includes/js/tinymce/util...      1\n",
       "2270  http://alysiella.com/image/owa.outlook.microso...      1\n",
       "2271  https://serviceconsultantmb.com/capitalone/ver...      1\n",
       "2272  https://serviceconsultantmb.com/capitalone/ver...      1\n",
       "2273  https://serviceconsultantmb.com/capitalone/ver...      1\n",
       "2274  https://serviceconsultantmb.com/capitalone/ver...      1\n",
       "2275        http://cmjmusic.com/amazon/Amazon/index.php      1\n",
       "2276  http://annual-pay-verification-transfer-custom...      1\n",
       "\n",
       "[2277 rows x 2 columns]"
      ]
     },
     "execution_count": 25,
     "metadata": {},
     "output_type": "execute_result"
    }
   ],
   "source": [
    "#ph"
   ]
  },
  {
   "cell_type": "code",
   "execution_count": 20,
   "metadata": {
    "collapsed": true
   },
   "outputs": [],
   "source": [
    "ben = data.append(data2)"
   ]
  },
  {
   "cell_type": "code",
   "execution_count": 21,
   "metadata": {},
   "outputs": [
    {
     "data": {
      "text/plain": [
       "282098"
      ]
     },
     "execution_count": 21,
     "metadata": {},
     "output_type": "execute_result"
    }
   ],
   "source": [
    "len(ben)"
   ]
  },
  {
   "cell_type": "code",
   "execution_count": null,
   "metadata": {},
   "outputs": [],
   "source": []
  },
  {
   "cell_type": "code",
   "execution_count": null,
   "metadata": {
    "collapsed": true
   },
   "outputs": [],
   "source": [
    "#phi.head()"
   ]
  },
  {
   "cell_type": "code",
   "execution_count": null,
   "metadata": {
    "collapsed": true
   },
   "outputs": [],
   "source": [
    "#phi.tail()"
   ]
  },
  {
   "cell_type": "code",
   "execution_count": 26,
   "metadata": {
    "collapsed": true
   },
   "outputs": [],
   "source": [
    "phi = ph.append(ph2)"
   ]
  },
  {
   "cell_type": "code",
   "execution_count": null,
   "metadata": {
    "collapsed": true
   },
   "outputs": [],
   "source": [
    "#phi.tail()"
   ]
  },
  {
   "cell_type": "code",
   "execution_count": 27,
   "metadata": {},
   "outputs": [
    {
     "data": {
      "text/plain": [
       "2277"
      ]
     },
     "execution_count": 27,
     "metadata": {},
     "output_type": "execute_result"
    }
   ],
   "source": [
    "len(ph)"
   ]
  },
  {
   "cell_type": "code",
   "execution_count": 28,
   "metadata": {},
   "outputs": [
    {
     "data": {
      "text/plain": [
       "32239"
      ]
     },
     "execution_count": 28,
     "metadata": {},
     "output_type": "execute_result"
    }
   ],
   "source": [
    "len(ph2)"
   ]
  },
  {
   "cell_type": "code",
   "execution_count": 29,
   "metadata": {},
   "outputs": [
    {
     "data": {
      "text/plain": [
       "34516"
      ]
     },
     "execution_count": 29,
     "metadata": {},
     "output_type": "execute_result"
    }
   ],
   "source": [
    "len(phi)"
   ]
  },
  {
   "cell_type": "code",
   "execution_count": 30,
   "metadata": {
    "collapsed": true
   },
   "outputs": [],
   "source": [
    "phi = phi.drop_duplicates(keep=False)\n",
    "ben = ben.drop_duplicates(keep=False)"
   ]
  },
  {
   "cell_type": "code",
   "execution_count": 31,
   "metadata": {},
   "outputs": [
    {
     "data": {
      "text/plain": [
       "34307"
      ]
     },
     "execution_count": 31,
     "metadata": {},
     "output_type": "execute_result"
    }
   ],
   "source": [
    "len(phi)"
   ]
  },
  {
   "cell_type": "code",
   "execution_count": 32,
   "metadata": {},
   "outputs": [
    {
     "data": {
      "text/plain": [
       "257632"
      ]
     },
     "execution_count": 32,
     "metadata": {},
     "output_type": "execute_result"
    }
   ],
   "source": [
    "len(ben)"
   ]
  },
  {
   "cell_type": "code",
   "execution_count": 33,
   "metadata": {
    "collapsed": true
   },
   "outputs": [],
   "source": [
    "oneset = phi.append(ben)"
   ]
  },
  {
   "cell_type": "code",
   "execution_count": 34,
   "metadata": {},
   "outputs": [
    {
     "data": {
      "text/plain": [
       "291939"
      ]
     },
     "execution_count": 34,
     "metadata": {},
     "output_type": "execute_result"
    }
   ],
   "source": [
    "len(oneset)"
   ]
  },
  {
   "cell_type": "code",
   "execution_count": 35,
   "metadata": {
    "collapsed": true
   },
   "outputs": [],
   "source": [
    "import re\n",
    "urllength = []\n",
    "nodots = []\n",
    "numberofdigits = []\n",
    "specialsymbols = []\n",
    "\n",
    "for i in oneset.URL:\n",
    "    numbers = 0\n",
    "    \n",
    "    urllength.append(len(i))\n",
    "    \n",
    "    dotcount=i.count(\".\")\n",
    "    nodots.append(dotcount)\n",
    "    \n",
    "    numbers = sum(c.isdigit() for c in i)\n",
    "    numberofdigits.append(numbers)\n",
    "    \n",
    "    new = re.sub('[\\w]+' ,'', i)\n",
    "    specialsymbols.append(len(new)-dotcount)"
   ]
  },
  {
   "cell_type": "code",
   "execution_count": 36,
   "metadata": {
    "collapsed": true
   },
   "outputs": [],
   "source": [
    "oneset['SpecialSymbols'] = specialsymbols\n",
    "oneset['LengthofUrl'] = urllength\n",
    "oneset['DigitsInUrl'] = numberofdigits\n",
    "oneset['DotsInUrl'] = nodots"
   ]
  },
  {
   "cell_type": "code",
   "execution_count": 37,
   "metadata": {},
   "outputs": [
    {
     "data": {
      "text/html": [
       "<div>\n",
       "<style>\n",
       "    .dataframe thead tr:only-child th {\n",
       "        text-align: right;\n",
       "    }\n",
       "\n",
       "    .dataframe thead th {\n",
       "        text-align: left;\n",
       "    }\n",
       "\n",
       "    .dataframe tbody tr th {\n",
       "        vertical-align: top;\n",
       "    }\n",
       "</style>\n",
       "<table border=\"1\" class=\"dataframe\">\n",
       "  <thead>\n",
       "    <tr style=\"text-align: right;\">\n",
       "      <th></th>\n",
       "      <th>Label</th>\n",
       "      <th>Label_type</th>\n",
       "      <th>URL</th>\n",
       "      <th>online</th>\n",
       "      <th>target</th>\n",
       "      <th>verified</th>\n",
       "      <th>SpecialSymbols</th>\n",
       "      <th>LengthofUrl</th>\n",
       "      <th>DigitsInUrl</th>\n",
       "      <th>DotsInUrl</th>\n",
       "    </tr>\n",
       "  </thead>\n",
       "  <tbody>\n",
       "    <tr>\n",
       "      <th>0</th>\n",
       "      <td>1</td>\n",
       "      <td>NaN</td>\n",
       "      <td>https://ghfgkhg.cf/tax/bnc/National%20Bank%20O...</td>\n",
       "      <td>NaN</td>\n",
       "      <td>NaN</td>\n",
       "      <td>NaN</td>\n",
       "      <td>8</td>\n",
       "      <td>56</td>\n",
       "      <td>4</td>\n",
       "      <td>2</td>\n",
       "    </tr>\n",
       "    <tr>\n",
       "      <th>1</th>\n",
       "      <td>1</td>\n",
       "      <td>NaN</td>\n",
       "      <td>https://www.personnalite2018.com/perso/indexfi...</td>\n",
       "      <td>NaN</td>\n",
       "      <td>NaN</td>\n",
       "      <td>NaN</td>\n",
       "      <td>5</td>\n",
       "      <td>51</td>\n",
       "      <td>4</td>\n",
       "      <td>3</td>\n",
       "    </tr>\n",
       "    <tr>\n",
       "      <th>2</th>\n",
       "      <td>1</td>\n",
       "      <td>NaN</td>\n",
       "      <td>https://www.personnalite2018.com/perso/index2.php</td>\n",
       "      <td>NaN</td>\n",
       "      <td>NaN</td>\n",
       "      <td>NaN</td>\n",
       "      <td>5</td>\n",
       "      <td>49</td>\n",
       "      <td>5</td>\n",
       "      <td>3</td>\n",
       "    </tr>\n",
       "    <tr>\n",
       "      <th>3</th>\n",
       "      <td>1</td>\n",
       "      <td>NaN</td>\n",
       "      <td>http://ativascorretora.com.br/chaseonline.chas...</td>\n",
       "      <td>NaN</td>\n",
       "      <td>NaN</td>\n",
       "      <td>NaN</td>\n",
       "      <td>7</td>\n",
       "      <td>95</td>\n",
       "      <td>23</td>\n",
       "      <td>4</td>\n",
       "    </tr>\n",
       "    <tr>\n",
       "      <th>4</th>\n",
       "      <td>1</td>\n",
       "      <td>NaN</td>\n",
       "      <td>http://ativascorretora.com.br/chaseonline.chas...</td>\n",
       "      <td>NaN</td>\n",
       "      <td>NaN</td>\n",
       "      <td>NaN</td>\n",
       "      <td>13</td>\n",
       "      <td>262</td>\n",
       "      <td>95</td>\n",
       "      <td>5</td>\n",
       "    </tr>\n",
       "  </tbody>\n",
       "</table>\n",
       "</div>"
      ],
      "text/plain": [
       "   Label Label_type                                                URL online  \\\n",
       "0      1        NaN  https://ghfgkhg.cf/tax/bnc/National%20Bank%20O...    NaN   \n",
       "1      1        NaN  https://www.personnalite2018.com/perso/indexfi...    NaN   \n",
       "2      1        NaN  https://www.personnalite2018.com/perso/index2.php    NaN   \n",
       "3      1        NaN  http://ativascorretora.com.br/chaseonline.chas...    NaN   \n",
       "4      1        NaN  http://ativascorretora.com.br/chaseonline.chas...    NaN   \n",
       "\n",
       "  target verified  SpecialSymbols  LengthofUrl  DigitsInUrl  DotsInUrl  \n",
       "0    NaN      NaN               8           56            4          2  \n",
       "1    NaN      NaN               5           51            4          3  \n",
       "2    NaN      NaN               5           49            5          3  \n",
       "3    NaN      NaN               7           95           23          4  \n",
       "4    NaN      NaN              13          262           95          5  "
      ]
     },
     "execution_count": 37,
     "metadata": {},
     "output_type": "execute_result"
    }
   ],
   "source": [
    "oneset.head()"
   ]
  },
  {
   "cell_type": "code",
   "execution_count": 38,
   "metadata": {
    "collapsed": true
   },
   "outputs": [],
   "source": [
    "oneset.to_csv(\"freshset1.csv\", encoding='utf-8', index=False)"
   ]
  },
  {
   "cell_type": "code",
   "execution_count": 39,
   "metadata": {},
   "outputs": [
    {
     "name": "stderr",
     "output_type": "stream",
     "text": [
      "/home/yogi/anaconda3/lib/python3.6/site-packages/IPython/core/interactiveshell.py:2698: DtypeWarning: Columns (1,3,4,5) have mixed types. Specify dtype option on import or set low_memory=False.\n",
      "  interactivity=interactivity, compiler=compiler, result=result)\n"
     ]
    }
   ],
   "source": [
    "newone = pd.read_csv(\"freshset1.csv\")"
   ]
  },
  {
   "cell_type": "code",
   "execution_count": 40,
   "metadata": {},
   "outputs": [
    {
     "data": {
      "text/html": [
       "<div>\n",
       "<style>\n",
       "    .dataframe thead tr:only-child th {\n",
       "        text-align: right;\n",
       "    }\n",
       "\n",
       "    .dataframe thead th {\n",
       "        text-align: left;\n",
       "    }\n",
       "\n",
       "    .dataframe tbody tr th {\n",
       "        vertical-align: top;\n",
       "    }\n",
       "</style>\n",
       "<table border=\"1\" class=\"dataframe\">\n",
       "  <thead>\n",
       "    <tr style=\"text-align: right;\">\n",
       "      <th></th>\n",
       "      <th>Label</th>\n",
       "      <th>Label_type</th>\n",
       "      <th>URL</th>\n",
       "      <th>online</th>\n",
       "      <th>target</th>\n",
       "      <th>verified</th>\n",
       "      <th>SpecialSymbols</th>\n",
       "      <th>LengthofUrl</th>\n",
       "      <th>DigitsInUrl</th>\n",
       "      <th>DotsInUrl</th>\n",
       "    </tr>\n",
       "  </thead>\n",
       "  <tbody>\n",
       "    <tr>\n",
       "      <th>0</th>\n",
       "      <td>1</td>\n",
       "      <td>NaN</td>\n",
       "      <td>https://ghfgkhg.cf/tax/bnc/National%20Bank%20O...</td>\n",
       "      <td>NaN</td>\n",
       "      <td>NaN</td>\n",
       "      <td>NaN</td>\n",
       "      <td>8</td>\n",
       "      <td>56</td>\n",
       "      <td>4</td>\n",
       "      <td>2</td>\n",
       "    </tr>\n",
       "    <tr>\n",
       "      <th>1</th>\n",
       "      <td>1</td>\n",
       "      <td>NaN</td>\n",
       "      <td>https://www.personnalite2018.com/perso/indexfi...</td>\n",
       "      <td>NaN</td>\n",
       "      <td>NaN</td>\n",
       "      <td>NaN</td>\n",
       "      <td>5</td>\n",
       "      <td>51</td>\n",
       "      <td>4</td>\n",
       "      <td>3</td>\n",
       "    </tr>\n",
       "    <tr>\n",
       "      <th>2</th>\n",
       "      <td>1</td>\n",
       "      <td>NaN</td>\n",
       "      <td>https://www.personnalite2018.com/perso/index2.php</td>\n",
       "      <td>NaN</td>\n",
       "      <td>NaN</td>\n",
       "      <td>NaN</td>\n",
       "      <td>5</td>\n",
       "      <td>49</td>\n",
       "      <td>5</td>\n",
       "      <td>3</td>\n",
       "    </tr>\n",
       "    <tr>\n",
       "      <th>3</th>\n",
       "      <td>1</td>\n",
       "      <td>NaN</td>\n",
       "      <td>http://ativascorretora.com.br/chaseonline.chas...</td>\n",
       "      <td>NaN</td>\n",
       "      <td>NaN</td>\n",
       "      <td>NaN</td>\n",
       "      <td>7</td>\n",
       "      <td>95</td>\n",
       "      <td>23</td>\n",
       "      <td>4</td>\n",
       "    </tr>\n",
       "    <tr>\n",
       "      <th>4</th>\n",
       "      <td>1</td>\n",
       "      <td>NaN</td>\n",
       "      <td>http://ativascorretora.com.br/chaseonline.chas...</td>\n",
       "      <td>NaN</td>\n",
       "      <td>NaN</td>\n",
       "      <td>NaN</td>\n",
       "      <td>13</td>\n",
       "      <td>262</td>\n",
       "      <td>95</td>\n",
       "      <td>5</td>\n",
       "    </tr>\n",
       "  </tbody>\n",
       "</table>\n",
       "</div>"
      ],
      "text/plain": [
       "   Label Label_type                                                URL online  \\\n",
       "0      1        NaN  https://ghfgkhg.cf/tax/bnc/National%20Bank%20O...    NaN   \n",
       "1      1        NaN  https://www.personnalite2018.com/perso/indexfi...    NaN   \n",
       "2      1        NaN  https://www.personnalite2018.com/perso/index2.php    NaN   \n",
       "3      1        NaN  http://ativascorretora.com.br/chaseonline.chas...    NaN   \n",
       "4      1        NaN  http://ativascorretora.com.br/chaseonline.chas...    NaN   \n",
       "\n",
       "  target verified  SpecialSymbols  LengthofUrl  DigitsInUrl  DotsInUrl  \n",
       "0    NaN      NaN               8           56            4          2  \n",
       "1    NaN      NaN               5           51            4          3  \n",
       "2    NaN      NaN               5           49            5          3  \n",
       "3    NaN      NaN               7           95           23          4  \n",
       "4    NaN      NaN              13          262           95          5  "
      ]
     },
     "execution_count": 40,
     "metadata": {},
     "output_type": "execute_result"
    }
   ],
   "source": [
    "newone.head()"
   ]
  },
  {
   "cell_type": "code",
   "execution_count": null,
   "metadata": {
    "collapsed": true
   },
   "outputs": [],
   "source": []
  }
 ],
 "metadata": {
  "kernelspec": {
   "display_name": "Python 3",
   "language": "python",
   "name": "python3"
  },
  "language_info": {
   "codemirror_mode": {
    "name": "ipython",
    "version": 3
   },
   "file_extension": ".py",
   "mimetype": "text/x-python",
   "name": "python",
   "nbconvert_exporter": "python",
   "pygments_lexer": "ipython3",
   "version": "3.6.3"
  }
 },
 "nbformat": 4,
 "nbformat_minor": 2
}
