{
 "cells": [
  {
   "cell_type": "code",
   "execution_count": 90,
   "metadata": {},
   "outputs": [],
   "source": [
    "import pandas as pd\n",
    "datasetdata = pd.read_csv(\"freshset1.csv\",low_memory=False)"
   ]
  },
  {
   "cell_type": "code",
   "execution_count": 91,
   "metadata": {},
   "outputs": [],
   "source": [
    "datasetdata[\"URL\"]=datasetdata[\"URL\"].str.strip(\"https://\")\n",
    "datasetdata[\"URL\"]=datasetdata[\"URL\"].str.strip(\"http://\")"
   ]
  },
  {
   "cell_type": "code",
   "execution_count": 92,
   "metadata": {},
   "outputs": [
    {
     "data": {
      "text/html": [
       "<div>\n",
       "<style scoped>\n",
       "    .dataframe tbody tr th:only-of-type {\n",
       "        vertical-align: middle;\n",
       "    }\n",
       "\n",
       "    .dataframe tbody tr th {\n",
       "        vertical-align: top;\n",
       "    }\n",
       "\n",
       "    .dataframe thead th {\n",
       "        text-align: right;\n",
       "    }\n",
       "</style>\n",
       "<table border=\"1\" class=\"dataframe\">\n",
       "  <thead>\n",
       "    <tr style=\"text-align: right;\">\n",
       "      <th></th>\n",
       "      <th>Label</th>\n",
       "      <th>Label_type</th>\n",
       "      <th>URL</th>\n",
       "      <th>online</th>\n",
       "      <th>target</th>\n",
       "      <th>verified</th>\n",
       "      <th>SpecialSymbols</th>\n",
       "      <th>LengthofUrl</th>\n",
       "      <th>DigitsInUrl</th>\n",
       "      <th>DotsInUrl</th>\n",
       "    </tr>\n",
       "  </thead>\n",
       "  <tbody>\n",
       "    <tr>\n",
       "      <th>0</th>\n",
       "      <td>1</td>\n",
       "      <td>NaN</td>\n",
       "      <td>ghfgkhg.cf/tax/bnc/National%20Bank%20Online.html</td>\n",
       "      <td>NaN</td>\n",
       "      <td>NaN</td>\n",
       "      <td>NaN</td>\n",
       "      <td>8</td>\n",
       "      <td>56</td>\n",
       "      <td>4</td>\n",
       "      <td>2</td>\n",
       "    </tr>\n",
       "    <tr>\n",
       "      <th>1</th>\n",
       "      <td>1</td>\n",
       "      <td>NaN</td>\n",
       "      <td>www.personnalite2018.com/perso/indexfis.</td>\n",
       "      <td>NaN</td>\n",
       "      <td>NaN</td>\n",
       "      <td>NaN</td>\n",
       "      <td>5</td>\n",
       "      <td>51</td>\n",
       "      <td>4</td>\n",
       "      <td>3</td>\n",
       "    </tr>\n",
       "    <tr>\n",
       "      <th>2</th>\n",
       "      <td>1</td>\n",
       "      <td>NaN</td>\n",
       "      <td>www.personnalite2018.com/perso/index2.</td>\n",
       "      <td>NaN</td>\n",
       "      <td>NaN</td>\n",
       "      <td>NaN</td>\n",
       "      <td>5</td>\n",
       "      <td>49</td>\n",
       "      <td>5</td>\n",
       "      <td>3</td>\n",
       "    </tr>\n",
       "    <tr>\n",
       "      <th>3</th>\n",
       "      <td>1</td>\n",
       "      <td>NaN</td>\n",
       "      <td>ativascorretora.com.br/chaseonline.chase.com/A...</td>\n",
       "      <td>NaN</td>\n",
       "      <td>NaN</td>\n",
       "      <td>NaN</td>\n",
       "      <td>7</td>\n",
       "      <td>95</td>\n",
       "      <td>23</td>\n",
       "      <td>4</td>\n",
       "    </tr>\n",
       "    <tr>\n",
       "      <th>4</th>\n",
       "      <td>1</td>\n",
       "      <td>NaN</td>\n",
       "      <td>ativascorretora.com.br/chaseonline.chase.com/A...</td>\n",
       "      <td>NaN</td>\n",
       "      <td>NaN</td>\n",
       "      <td>NaN</td>\n",
       "      <td>13</td>\n",
       "      <td>262</td>\n",
       "      <td>95</td>\n",
       "      <td>5</td>\n",
       "    </tr>\n",
       "  </tbody>\n",
       "</table>\n",
       "</div>"
      ],
      "text/plain": [
       "   Label Label_type                                                URL online  \\\n",
       "0      1        NaN   ghfgkhg.cf/tax/bnc/National%20Bank%20Online.html    NaN   \n",
       "1      1        NaN           www.personnalite2018.com/perso/indexfis.    NaN   \n",
       "2      1        NaN             www.personnalite2018.com/perso/index2.    NaN   \n",
       "3      1        NaN  ativascorretora.com.br/chaseonline.chase.com/A...    NaN   \n",
       "4      1        NaN  ativascorretora.com.br/chaseonline.chase.com/A...    NaN   \n",
       "\n",
       "  target verified  SpecialSymbols  LengthofUrl  DigitsInUrl  DotsInUrl  \n",
       "0    NaN      NaN               8           56            4          2  \n",
       "1    NaN      NaN               5           51            4          3  \n",
       "2    NaN      NaN               5           49            5          3  \n",
       "3    NaN      NaN               7           95           23          4  \n",
       "4    NaN      NaN              13          262           95          5  "
      ]
     },
     "execution_count": 92,
     "metadata": {},
     "output_type": "execute_result"
    }
   ],
   "source": [
    "datasetdata.head()"
   ]
  },
  {
   "cell_type": "code",
   "execution_count": 100,
   "metadata": {},
   "outputs": [
    {
     "data": {
      "text/html": [
       "<div>\n",
       "<style scoped>\n",
       "    .dataframe tbody tr th:only-of-type {\n",
       "        vertical-align: middle;\n",
       "    }\n",
       "\n",
       "    .dataframe tbody tr th {\n",
       "        vertical-align: top;\n",
       "    }\n",
       "\n",
       "    .dataframe thead th {\n",
       "        text-align: right;\n",
       "    }\n",
       "</style>\n",
       "<table border=\"1\" class=\"dataframe\">\n",
       "  <thead>\n",
       "    <tr style=\"text-align: right;\">\n",
       "      <th></th>\n",
       "      <th>Label</th>\n",
       "      <th>Label_type</th>\n",
       "      <th>URL</th>\n",
       "      <th>online</th>\n",
       "      <th>target</th>\n",
       "      <th>verified</th>\n",
       "      <th>SpecialSymbols</th>\n",
       "      <th>LengthofUrl</th>\n",
       "      <th>DigitsInUrl</th>\n",
       "      <th>DotsInUrl</th>\n",
       "    </tr>\n",
       "  </thead>\n",
       "  <tbody>\n",
       "    <tr>\n",
       "      <th>291934</th>\n",
       "      <td>0</td>\n",
       "      <td>malware</td>\n",
       "      <td>kaku588.51sole.com</td>\n",
       "      <td>NaN</td>\n",
       "      <td>NaN</td>\n",
       "      <td>NaN</td>\n",
       "      <td>4</td>\n",
       "      <td>46</td>\n",
       "      <td>6</td>\n",
       "      <td>3</td>\n",
       "    </tr>\n",
       "    <tr>\n",
       "      <th>291935</th>\n",
       "      <td>0</td>\n",
       "      <td>malware</td>\n",
       "      <td>kaku588.51sole.com</td>\n",
       "      <td>NaN</td>\n",
       "      <td>NaN</td>\n",
       "      <td>NaN</td>\n",
       "      <td>4</td>\n",
       "      <td>46</td>\n",
       "      <td>6</td>\n",
       "      <td>3</td>\n",
       "    </tr>\n",
       "    <tr>\n",
       "      <th>291936</th>\n",
       "      <td>0</td>\n",
       "      <td>malware</td>\n",
       "      <td>kaku588.51sole.com</td>\n",
       "      <td>NaN</td>\n",
       "      <td>NaN</td>\n",
       "      <td>NaN</td>\n",
       "      <td>4</td>\n",
       "      <td>41</td>\n",
       "      <td>5</td>\n",
       "      <td>3</td>\n",
       "    </tr>\n",
       "    <tr>\n",
       "      <th>291937</th>\n",
       "      <td>0</td>\n",
       "      <td>malware</td>\n",
       "      <td>kaku588.51sole.com</td>\n",
       "      <td>NaN</td>\n",
       "      <td>NaN</td>\n",
       "      <td>NaN</td>\n",
       "      <td>4</td>\n",
       "      <td>42</td>\n",
       "      <td>5</td>\n",
       "      <td>3</td>\n",
       "    </tr>\n",
       "    <tr>\n",
       "      <th>291938</th>\n",
       "      <td>0</td>\n",
       "      <td>malware</td>\n",
       "      <td>kaku588.51sole.com</td>\n",
       "      <td>NaN</td>\n",
       "      <td>NaN</td>\n",
       "      <td>NaN</td>\n",
       "      <td>4</td>\n",
       "      <td>44</td>\n",
       "      <td>5</td>\n",
       "      <td>3</td>\n",
       "    </tr>\n",
       "  </tbody>\n",
       "</table>\n",
       "</div>"
      ],
      "text/plain": [
       "        Label Label_type                 URL online target verified  \\\n",
       "291934      0    malware  kaku588.51sole.com    NaN    NaN      NaN   \n",
       "291935      0    malware  kaku588.51sole.com    NaN    NaN      NaN   \n",
       "291936      0    malware  kaku588.51sole.com    NaN    NaN      NaN   \n",
       "291937      0    malware  kaku588.51sole.com    NaN    NaN      NaN   \n",
       "291938      0    malware  kaku588.51sole.com    NaN    NaN      NaN   \n",
       "\n",
       "        SpecialSymbols  LengthofUrl  DigitsInUrl  DotsInUrl  \n",
       "291934               4           46            6          3  \n",
       "291935               4           46            6          3  \n",
       "291936               4           41            5          3  \n",
       "291937               4           42            5          3  \n",
       "291938               4           44            5          3  "
      ]
     },
     "execution_count": 100,
     "metadata": {},
     "output_type": "execute_result"
    }
   ],
   "source": [
    "datasetdata.tail()"
   ]
  },
  {
   "cell_type": "code",
   "execution_count": 94,
   "metadata": {},
   "outputs": [
    {
     "data": {
      "text/plain": [
       "'domain=[]\\nfor i in datasetdata.URL:\\n    domain.append(i.split(\"/\")[0])\\nprint (domain)'"
      ]
     },
     "execution_count": 94,
     "metadata": {},
     "output_type": "execute_result"
    }
   ],
   "source": [
    "def helper(a):\n",
    "    return a.split(\"/\")[0]\n",
    "#print (datasetdata.URL.apply(helper))\n",
    "datasetdata[\"URL\"]=datasetdata.URL.apply(helper)\n",
    "\n",
    "\"\"\"domain=[]\n",
    "for i in datasetdata.URL:\n",
    "    domain.append(i.split(\"/\")[0])\n",
    "print (domain)\"\"\""
   ]
  },
  {
   "cell_type": "code",
   "execution_count": 103,
   "metadata": {},
   "outputs": [
    {
     "data": {
      "text/plain": [
       "291939"
      ]
     },
     "execution_count": 103,
     "metadata": {},
     "output_type": "execute_result"
    }
   ],
   "source": [
    "len(datasetdata)"
   ]
  },
  {
   "cell_type": "code",
   "execution_count": 106,
   "metadata": {},
   "outputs": [],
   "source": [
    "#import numpy as np\n",
    "#idx = np.unique(datasetdata.URL, return_index=True)[1]"
   ]
  },
  {
   "cell_type": "code",
   "execution_count": 107,
   "metadata": {},
   "outputs": [
    {
     "data": {
      "text/plain": [
       "43793"
      ]
     },
     "execution_count": 107,
     "metadata": {},
     "output_type": "execute_result"
    }
   ],
   "source": [
    "#len(idx)"
   ]
  },
  {
   "cell_type": "code",
   "execution_count": 112,
   "metadata": {},
   "outputs": [],
   "source": [
    "datasetdata.drop_duplicates(subset=\"URL\", keep=\"first\", inplace=True)"
   ]
  },
  {
   "cell_type": "code",
   "execution_count": 113,
   "metadata": {},
   "outputs": [
    {
     "data": {
      "text/plain": [
       "43793"
      ]
     },
     "execution_count": 113,
     "metadata": {},
     "output_type": "execute_result"
    }
   ],
   "source": [
    "len(datasetdata)"
   ]
  },
  {
   "cell_type": "code",
   "execution_count": 115,
   "metadata": {},
   "outputs": [
    {
     "data": {
      "text/plain": [
       "0    27200\n",
       "1    16593\n",
       "Name: Label, dtype: int64"
      ]
     },
     "execution_count": 115,
     "metadata": {},
     "output_type": "execute_result"
    }
   ],
   "source": [
    "datasetdata.Label.value_counts()"
   ]
  },
  {
   "cell_type": "code",
   "execution_count": 88,
   "metadata": {},
   "outputs": [],
   "source": [
    "datasetdata.to_csv(\"newdomains.csv\", encoding='utf-8', index=False)"
   ]
  }
 ],
 "metadata": {
  "kernelspec": {
   "display_name": "Python 3",
   "language": "python",
   "name": "python3"
  },
  "language_info": {
   "codemirror_mode": {
    "name": "ipython",
    "version": 3
   },
   "file_extension": ".py",
   "mimetype": "text/x-python",
   "name": "python",
   "nbconvert_exporter": "python",
   "pygments_lexer": "ipython3",
   "version": "3.6.3"
  }
 },
 "nbformat": 4,
 "nbformat_minor": 2
}
